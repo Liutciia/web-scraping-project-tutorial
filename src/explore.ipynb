{
    "cells": [
        {
            "cell_type": "markdown",
            "metadata": {},
            "source": [
                "# Explore here\n",
                "\n",
                "It's recommended to use this notebook for exploration purposes."
            ]
        },
        {
            "cell_type": "code",
            "execution_count": 8,
            "metadata": {},
            "outputs": [
                {
                    "name": "stdout",
                    "output_type": "stream",
                    "text": [
                        "         Tipo Porcentaje aproximado en adultos\n",
                        "0  Neutrófilo                              62%\n",
                        "1  Eosinófilo                             2.3%\n",
                        "2    Basófilo                             0.4%\n",
                        "3   Linfocito                              30%\n",
                        "4    Monocito                             5.3%\n"
                    ]
                },
                {
                    "name": "stderr",
                    "output_type": "stream",
                    "text": [
                        "/tmp/ipykernel_504/3548729945.py:29: FutureWarning: The frame.append method is deprecated and will be removed from pandas in a future version. Use pandas.concat instead.\n",
                        "  wikitable = wikitable.append({\"Tipo\": Tipo, \"Porcentaje aproximado en adultos\": Porcentaje_aproximado_en_adultos}, ignore_index = True)\n",
                        "/tmp/ipykernel_504/3548729945.py:29: FutureWarning: The frame.append method is deprecated and will be removed from pandas in a future version. Use pandas.concat instead.\n",
                        "  wikitable = wikitable.append({\"Tipo\": Tipo, \"Porcentaje aproximado en adultos\": Porcentaje_aproximado_en_adultos}, ignore_index = True)\n",
                        "/tmp/ipykernel_504/3548729945.py:29: FutureWarning: The frame.append method is deprecated and will be removed from pandas in a future version. Use pandas.concat instead.\n",
                        "  wikitable = wikitable.append({\"Tipo\": Tipo, \"Porcentaje aproximado en adultos\": Porcentaje_aproximado_en_adultos}, ignore_index = True)\n",
                        "/tmp/ipykernel_504/3548729945.py:29: FutureWarning: The frame.append method is deprecated and will be removed from pandas in a future version. Use pandas.concat instead.\n",
                        "  wikitable = wikitable.append({\"Tipo\": Tipo, \"Porcentaje aproximado en adultos\": Porcentaje_aproximado_en_adultos}, ignore_index = True)\n",
                        "/tmp/ipykernel_504/3548729945.py:29: FutureWarning: The frame.append method is deprecated and will be removed from pandas in a future version. Use pandas.concat instead.\n",
                        "  wikitable = wikitable.append({\"Tipo\": Tipo, \"Porcentaje aproximado en adultos\": Porcentaje_aproximado_en_adultos}, ignore_index = True)\n"
                    ]
                }
            ],
            "source": [
                "import os\n",
                "from bs4 import BeautifulSoup\n",
                "import requests\n",
                "import time\n",
                "import sqlite3\n",
                "import matplotlib.pyplot as plt\n",
                "import seaborn as sns\n",
                "import pandas as pd\n",
                "\n",
                "# Step 1: Fetch the HTML content of the webpage\n",
                "url = \"https://es.wikipedia.org/wiki/Leucocito\"\n",
                "response = requests.get(url)\n",
                "\n",
                "# Step 2: Parse the HTML content using BeautifulSoup\n",
                "soup = BeautifulSoup(response.text, \"html\")\n",
                "\n",
                "# Step 3: Find a table elements in the parsed HTML\n",
                "table = soup.find(\"table\", class_= \"wikitable\")\n",
                "\n",
                "# Create a DataFrame\n",
                "wikitable = pd.DataFrame(columns=[\"Tipo\", \"Porcentaje aproximado en adultos\"])\n",
                "\n",
                "for row in table.find_all(\"tr\"):\n",
                "    cell = row.find_all(\"td\")\n",
                "    if (cell != []):\n",
                "        Tipo = cell[0].text\n",
                "        Porcentaje_aproximado_en_adultos = cell[3].text\n",
                "        if \"%\" in Porcentaje_aproximado_en_adultos:\n",
                "            wikitable = wikitable.append({\"Tipo\": Tipo, \"Porcentaje aproximado en adultos\": Porcentaje_aproximado_en_adultos}, ignore_index = True)\n",
                "\n",
                "print(wikitable)\n",
                "\n",
                "\n",
                " "
            ]
        },
        {
            "cell_type": "code",
            "execution_count": 6,
            "metadata": {},
            "outputs": [
                {
                    "ename": "OperationalError",
                    "evalue": "table Wikitable already exists",
                    "output_type": "error",
                    "traceback": [
                        "\u001b[0;31m---------------------------------------------------------------------------\u001b[0m",
                        "\u001b[0;31mOperationalError\u001b[0m                          Traceback (most recent call last)",
                        "Cell \u001b[0;32mIn[6], line 10\u001b[0m\n\u001b[1;32m      8\u001b[0m \u001b[38;5;66;03m#Create a table\u001b[39;00m\n\u001b[1;32m      9\u001b[0m cursor \u001b[38;5;241m=\u001b[39m connection\u001b[38;5;241m.\u001b[39mcursor()\n\u001b[0;32m---> 10\u001b[0m \u001b[43mcursor\u001b[49m\u001b[38;5;241;43m.\u001b[39;49m\u001b[43mexecute\u001b[49m\u001b[43m(\u001b[49m\u001b[38;5;124;43m\"\"\"\u001b[39;49m\u001b[38;5;124;43mCREATE TABLE Wikitable (Tipo, Porcentage aproximado en adultos)\u001b[39;49m\u001b[38;5;124;43m\"\"\"\u001b[39;49m\u001b[43m)\u001b[49m\n\u001b[1;32m     12\u001b[0m \u001b[38;5;66;03m#Insert the values\u001b[39;00m\n\u001b[1;32m     13\u001b[0m cursor\u001b[38;5;241m.\u001b[39mexecute(\u001b[38;5;124m\"\"\"\u001b[39m\n\u001b[1;32m     14\u001b[0m \u001b[38;5;124mINSERT INTO Wikitable (Tipo, Porcentage aproximado en adultos) VALUES (Neutrófilo, 62\u001b[39m\u001b[38;5;124m%\u001b[39m\u001b[38;5;124m);\u001b[39m\n\u001b[1;32m     15\u001b[0m \u001b[38;5;124mINSERT INTO Wikitable (Tipo, Porcentage aproximado en adultos) VALUES (Eosinófilo, 2.3\u001b[39m\u001b[38;5;124m%\u001b[39m\u001b[38;5;124m)\u001b[39m\n\u001b[0;32m   (...)\u001b[0m\n\u001b[1;32m     18\u001b[0m \u001b[38;5;124mINSERT INTO Wikitable (Tipo, Porcentage aproximado en adultos) VALUES (Monocito, 5.3\u001b[39m\u001b[38;5;124m%\u001b[39m\u001b[38;5;124m)\u001b[39m\n\u001b[1;32m     19\u001b[0m \u001b[38;5;124m\"\"\"\u001b[39m)\n",
                        "\u001b[0;31mOperationalError\u001b[0m: table Wikitable already exists"
                    ]
                }
            ],
            "source": [
                "#Step 5: \n",
                "#Store the data in sqlite\n",
                "import sqlite3\n",
                "\n",
                "connection = sqlite3.connect(\"Wikitable\")\n",
                "connection\n",
                "\n",
                "#Create a table\n",
                "cursor = connection.cursor()\n",
                "cursor.execute(\"\"\"CREATE TABLE Wikitable (Tipo, Porcentaje aproximado en adultos)\"\"\")\n",
                "\n",
                "#Insert the values\n",
                "cursor.execute(\"\"\"\n",
                "INSERT INTO Wikitable (Tipo, Porcentaje aproximado en adultos) VALUES (Neutrófilo, 62%);\n",
                "INSERT INTO Wikitable (Tipo, Porcentaje aproximado en adultos) VALUES (Eosinófilo, 2.3%)\n",
                "INSERT INTO Wikitable (Tipo, Porcentaje aproximado en adultos) VALUES (Basófilo, 0.4%)\n",
                "INSERT INTO Wikitable (Tipo, Porcentaje aproximado en adultos) VALUES (Linfocito, 30%)\n",
                "INSERT INTO Wikitable (Tipo, Porcentaje aproximado en adultos) VALUES (Monocito, 5.3%)\n",
                "\"\"\")\n",
                "               \n",
                "#Almacena (commit) los cambios\n",
                "connection.commit()"
            ]
        },
        {
            "cell_type": "code",
            "execution_count": null,
            "metadata": {},
            "outputs": [],
            "source": [
                "#Step 6: Visualize the data"
            ]
        }
    ],
    "metadata": {
        "kernelspec": {
            "display_name": "Python 3.8.13 64-bit ('3.8.13')",
            "language": "python",
            "name": "python3"
        },
        "language_info": {
            "codemirror_mode": {
                "name": "ipython",
                "version": 3
            },
            "file_extension": ".py",
            "mimetype": "text/x-python",
            "name": "python",
            "nbconvert_exporter": "python",
            "pygments_lexer": "ipython3",
            "version": "3.11.4"
        },
        "orig_nbformat": 4,
        "vscode": {
            "interpreter": {
                "hash": "110cc1dee26208153f2972f08a2ad52b6a56238dc66d48e87fb757ef2996db56"
            }
        }
    },
    "nbformat": 4,
    "nbformat_minor": 2
}
